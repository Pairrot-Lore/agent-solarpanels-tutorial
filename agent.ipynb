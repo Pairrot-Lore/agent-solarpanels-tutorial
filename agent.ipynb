{
 "cells": [
  {
   "cell_type": "markdown",
   "metadata": {},
   "source": [
    "https://langchain-ai.github.io/langgraph/tutorials/customer-support/customer-support/#flights"
   ]
  },
  {
   "cell_type": "code",
   "execution_count": 93,
   "metadata": {},
   "outputs": [],
   "source": [
    "import getpass\n",
    "import os\n",
    "from langchain_core.tools import tool\n",
    "from langchain_aws import ChatBedrock\n",
    "import boto3\n",
    "from langchain_core.prompts import ChatPromptTemplate\n",
    "\n",
    "os.environ[\"TAVILY_API_KEY\"] = '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'\n",
    "os.environ[\"LANGCHAIN_TRACING_V2\"] = \"true\"\n",
    "os.environ[\"LANGCHAIN_ENDPOINT\"] = \"https://api.smith.langchain.com\"\n",
    "os.environ[\"LANGCHAIN_API_KEY\"] = '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'\n",
    "os.environ[\"LANGCHAIN_PROJECT\"] = \"agent-solarpanels-tutorial\""
   ]
  },
  {
   "cell_type": "markdown",
   "metadata": {},
   "source": [
    "# Tools"
   ]
  },
  {
   "cell_type": "markdown",
   "metadata": {},
   "source": [
    "### GetEnergySavings"
   ]
  },
  {
   "cell_type": "code",
   "execution_count": 94,
   "metadata": {},
   "outputs": [],
   "source": [
    "@tool\n",
    "def compute_savings(monthly_cost: float) -> float:\n",
    "    \"\"\"Compute the amount of money that will be saved.\"\"\"\n",
    "    def calculate_solar_savings(monthly_cost):\n",
    "        # Assumptions\n",
    "        cost_per_kWh = 0.28  # Updated to reflect Belgium's average cost\n",
    "        cost_per_watt = 1.50  # euros per watt for installation\n",
    "        sunlight_hours_per_day = 3.5  # Updated for Belgium's average sunlight\n",
    "        panel_wattage = 350  # watts per panel\n",
    "        system_lifetime_years = 10  # years for savings calculation\n",
    "        \n",
    "        # Step 1: Calculate Monthly Electricity Consumption in kWh\n",
    "        monthly_consumption_kWh = monthly_cost / cost_per_kWh\n",
    "        \n",
    "        # Step 2: Calculate Required System Size in kW\n",
    "        daily_energy_production = monthly_consumption_kWh / 30\n",
    "        system_size_kW = daily_energy_production / sunlight_hours_per_day\n",
    "        \n",
    "        # Step 3: Calculate the Number of Solar Panels\n",
    "        number_of_panels = system_size_kW * 1000 / panel_wattage\n",
    "        \n",
    "        # Step 4: Calculate Installation Cost\n",
    "        installation_cost = system_size_kW * 1000 * cost_per_watt\n",
    "        \n",
    "        # Step 5: Calculate Annual Savings\n",
    "        annual_savings = monthly_cost * 12\n",
    "        \n",
    "        # Step 6: Calculate Net Savings Over 10 Years\n",
    "        total_savings_10_years = annual_savings * system_lifetime_years\n",
    "        net_savings = total_savings_10_years - installation_cost\n",
    "        \n",
    "        return {\n",
    "            \"number_of_panels\": round(number_of_panels),\n",
    "            \"installation_cost\": round(installation_cost, 2),\n",
    "            \"net_savings_10_years\": round(net_savings, 2)\n",
    "        }\n",
    "\n",
    "    results = calculate_solar_savings(monthly_cost)\n",
    "\n",
    "    savings_over_10_years = results[\"net_savings_10_years\"]\n",
    "\n",
    "    return results"
   ]
  },
  {
   "cell_type": "markdown",
   "metadata": {},
   "source": [
    "# Utilities\n",
    "Define helper functions to pretty print the messages in the graph while we debug it and to give our tool node error handling (by adding the error to the chat history)."
   ]
  },
  {
   "cell_type": "code",
   "execution_count": 95,
   "metadata": {},
   "outputs": [],
   "source": [
    "from langchain_core.messages import ToolMessage\n",
    "from langchain_core.runnables import RunnableLambda\n",
    "\n",
    "from langgraph.prebuilt import ToolNode\n",
    "\n",
    "\n",
    "def handle_tool_error(state) -> dict:\n",
    "    error = state.get(\"error\")\n",
    "    tool_calls = state[\"messages\"][-1].tool_calls\n",
    "    return {\n",
    "        \"messages\": [\n",
    "            ToolMessage(\n",
    "                content=f\"Error: {repr(error)}\\n please fix your mistakes.\",\n",
    "                tool_call_id=tc[\"id\"],\n",
    "            )\n",
    "            for tc in tool_calls\n",
    "        ]\n",
    "    }\n",
    "\n",
    "\n",
    "def create_tool_node_with_fallback(tools: list) -> dict:\n",
    "    return ToolNode(tools).with_fallbacks(\n",
    "        [RunnableLambda(handle_tool_error)], exception_key=\"error\"\n",
    "    )\n",
    "\n",
    "\n",
    "def _print_event(event: dict, _printed: set, max_length=1500):\n",
    "    current_state = event.get(\"dialog_state\")\n",
    "    if current_state:\n",
    "        print(\"Currently in: \", current_state[-1])\n",
    "    message = event.get(\"messages\")\n",
    "    if message:\n",
    "        if isinstance(message, list):\n",
    "            message = message[-1]\n",
    "        if message.id not in _printed:\n",
    "            msg_repr = message.pretty_repr(html=True)\n",
    "            if len(msg_repr) > max_length:\n",
    "                msg_repr = msg_repr[:max_length] + \" ... (truncated)\"\n",
    "            print(msg_repr)\n",
    "            _printed.add(message.id)"
   ]
  },
  {
   "cell_type": "markdown",
   "metadata": {},
   "source": [
    "# State"
   ]
  },
  {
   "cell_type": "code",
   "execution_count": 96,
   "metadata": {},
   "outputs": [],
   "source": [
    "from typing import Annotated\n",
    "\n",
    "from typing_extensions import TypedDict\n",
    "\n",
    "from langgraph.graph.message import AnyMessage, add_messages\n",
    "\n",
    "\n",
    "class State(TypedDict):\n",
    "    messages: Annotated[list[AnyMessage], add_messages]"
   ]
  },
  {
   "cell_type": "markdown",
   "metadata": {},
   "source": [
    "# Agent\n",
    "Next, define the assistant function. This function takes the graph state, formats it into a prompt, and then calls an LLM for it to predict the best response."
   ]
  },
  {
   "cell_type": "code",
   "execution_count": 97,
   "metadata": {},
   "outputs": [],
   "source": [
    "from langchain_community.tools.tavily_search import TavilySearchResults\n",
    "from langchain_core.prompts import ChatPromptTemplate\n",
    "from langchain_core.runnables import Runnable, RunnableConfig\n",
    "from langchain_aws import ChatBedrock\n",
    "import boto3\n",
    "\n",
    "class Assistant:\n",
    "    def __init__(self, runnable: Runnable):\n",
    "        self.runnable = runnable\n",
    "\n",
    "    def __call__(self, state: State, config: RunnableConfig):\n",
    "        while True:\n",
    "            result = self.runnable.invoke(state)\n",
    "            # If the LLM happens to return an empty response, we will re-prompt it\n",
    "            # for an actual response.\n",
    "            if not result.tool_calls and (\n",
    "                not result.content\n",
    "                or isinstance(result.content, list)\n",
    "                and not result.content[0].get(\"text\")\n",
    "            ):\n",
    "                messages = state[\"messages\"] + [(\"user\", \"Respond with a real output.\")]\n",
    "                state = {**state, \"messages\": messages}\n",
    "            else:\n",
    "                break\n",
    "        return {\"messages\": result}\n",
    "\n",
    "\n",
    "# LLM with function call\n",
    "def get_bedrock_client(region):\n",
    "    return boto3.client(\"bedrock-runtime\", region_name=region)\n",
    "\n",
    "def create_bedrock_llm(client):\n",
    "    return ChatBedrock(model_id='anthropic.claude-3-sonnet-20240229-v1:0', client=client, model_kwargs={'temperature': 0}, region_name='us-east-1')\n",
    "\n",
    "llm = create_bedrock_llm(get_bedrock_client(region = 'us-east-1'))\n",
    "\n",
    "primary_assistant_prompt = ChatPromptTemplate.from_messages(\n",
    "    [\n",
    "        (\n",
    "            \"system\",\n",
    "            '''You are a helpful customer support assistant for Solar Panels Belgium.\n",
    "            You should get the following information from them:\n",
    "            - monthly electricity cost\n",
    "            If you are not able to discern this info, ask them to clarify! Do not attempt to wildly guess.\n",
    "\n",
    "            After you are able to discern all the information, call the relevant tool.\n",
    "            ''',\n",
    "        ),\n",
    "        (\"placeholder\", \"{messages}\"),\n",
    "    ]\n",
    ")\n",
    "\n",
    "part_1_tools = [\n",
    "    TavilySearchResults(max_results=1),\n",
    "    compute_savings\n",
    "]\n",
    "part_1_assistant_runnable = primary_assistant_prompt | llm.bind_tools(part_1_tools)"
   ]
  },
  {
   "cell_type": "markdown",
   "metadata": {},
   "source": [
    "# Define Graph"
   ]
  },
  {
   "cell_type": "code",
   "execution_count": 98,
   "metadata": {},
   "outputs": [],
   "source": [
    "from langgraph.checkpoint.memory import MemorySaver\n",
    "from langgraph.graph import END, StateGraph, START\n",
    "from langgraph.prebuilt import tools_condition\n",
    "\n",
    "builder = StateGraph(State)\n",
    "\n",
    "\n",
    "# Define nodes: these do the work\n",
    "builder.add_node(\"assistant\", Assistant(part_1_assistant_runnable))\n",
    "builder.add_node(\"tools\", create_tool_node_with_fallback(part_1_tools))\n",
    "# Define edges: these determine how the control flow moves\n",
    "builder.add_edge(START, \"assistant\")\n",
    "builder.add_conditional_edges(\n",
    "    \"assistant\",\n",
    "    tools_condition,\n",
    ")\n",
    "builder.add_edge(\"tools\", \"assistant\")\n",
    "\n",
    "# The checkpointer lets the graph persist its state\n",
    "# this is a complete memory for the entire graph.\n",
    "memory = MemorySaver()\n",
    "graph = builder.compile(checkpointer=memory)"
   ]
  },
  {
   "cell_type": "code",
   "execution_count": 99,
   "metadata": {},
   "outputs": [
    {
     "data": {
      "image/jpeg": "[encoded data removed]",
      "text/plain": [
       "<IPython.core.display.Image object>"
      ]
     },
     "metadata": {},
     "output_type": "display_data"
    }
   ],
   "source": [
    "from IPython.display import Image, display\n",
    "\n",
    "try:\n",
    "    display(Image(graph.get_graph(xray=True).draw_mermaid_png()))\n",
    "except Exception:\n",
    "    # This requires some extra dependencies and is optional\n",
    "    pass"
   ]
  },
  {
   "cell_type": "code",
   "execution_count": 103,
   "metadata": {},
   "outputs": [
    {
     "name": "stdout",
     "output_type": "stream",
     "text": [
      "================================\u001b[1m Human Message \u001b[0m=================================\n",
      "\n",
      "hey\n",
      "content='Hello! How can I assist you today with solar panels or related services from Solar Panels Belgium?' additional_kwargs={'usage': {'prompt_tokens': 401, 'completion_tokens': 23, 'total_tokens': 424}, 'stop_reason': 'end_turn', 'model_id': 'anthropic.claude-3-sonnet-20240229-v1:0'} response_metadata={'usage': {'prompt_tokens': 401, 'completion_tokens': 23, 'total_tokens': 424}, 'stop_reason': 'end_turn', 'model_id': 'anthropic.claude-3-sonnet-20240229-v1:0'} id='run-9aef91e6-0d9c-4f97-8693-f7723648df84-0' usage_metadata={'input_tokens': 401, 'output_tokens': 23, 'total_tokens': 424}\n",
      "==================================\u001b[1m Ai Message \u001b[0m==================================\n",
      "\n",
      "Hello! How can I assist you today with solar panels or related services from Solar Panels Belgium?\n",
      "================================\u001b[1m Human Message \u001b[0m=================================\n",
      "\n",
      "can you calculate my energy saving\n",
      "content=\"Sure, I'd be happy to calculate an estimate of how much you could save on your energy costs by installing solar panels. To do that, I'll need to know your current monthly electricity cost. Could you please provide me with the amount you typically pay per month for electricity?\" additional_kwargs={'usage': {'prompt_tokens': 433, 'completion_tokens': 59, 'total_tokens': 492}, 'stop_reason': 'end_turn', 'model_id': 'anthropic.claude-3-sonnet-20240229-v1:0'} response_metadata={'usage': {'prompt_tokens': 433, 'completion_tokens': 59, 'total_tokens': 492}, 'stop_reason': 'end_turn', 'model_id': 'anthropic.claude-3-sonnet-20240229-v1:0'} id='run-cc0b2053-35cb-49ee-8bf6-093277339f41-0' usage_metadata={'input_tokens': 433, 'output_tokens': 59, 'total_tokens': 492}\n",
      "==================================\u001b[1m Ai Message \u001b[0m==================================\n",
      "\n",
      "Sure, I'd be happy to calculate an estimate of how much you could save on your energy costs by installing solar panels. To do that, I'll need to know your current monthly electricity cost. Could you please provide me with the amount you typically pay per month for electricity?\n",
      "================================\u001b[1m Human Message \u001b[0m=================================\n",
      "\n",
      "my montly cost is $100, what will i save\n",
      "content='' additional_kwargs={'usage': {'prompt_tokens': 507, 'completion_tokens': 81, 'total_tokens': 588}, 'stop_reason': 'tool_use', 'model_id': 'anthropic.claude-3-sonnet-20240229-v1:0'} response_metadata={'usage': {'prompt_tokens': 507, 'completion_tokens': 81, 'total_tokens': 588}, 'stop_reason': 'tool_use', 'model_id': 'anthropic.claude-3-sonnet-20240229-v1:0'} id='run-6344e07b-8534-458e-a7f3-3a6556815320-0' tool_calls=[{'name': 'compute_savings', 'args': {'monthly_cost': 100}, 'id': 'toolu_bdrk_01C55nbuByfsc9YmLSabdruA', 'type': 'tool_call'}] usage_metadata={'input_tokens': 507, 'output_tokens': 81, 'total_tokens': 588}\n",
      "==================================\u001b[1m Ai Message \u001b[0m==================================\n",
      "Tool Calls:\n",
      "  compute_savings (toolu_bdrk_01C55nbuByfsc9YmLSabdruA)\n",
      " Call ID: toolu_bdrk_01C55nbuByfsc9YmLSabdruA\n",
      "  Args:\n",
      "    monthly_cost: 100\n",
      "=================================\u001b[1m Tool Message \u001b[0m=================================\n",
      "Name: compute_savings\n",
      "\n",
      "{\"number_of_panels\": 10, \"installation_cost\": 5102.04, \"net_savings_10_years\": 6897.96}\n",
      "content='Based on your monthly electricity cost of $100, here are the estimated savings from installing solar panels:\\n\\n- Number of solar panels recommended: 10\\n- Upfront installation cost: $5,102.04\\n- Net savings over 10 years: $6,897.96\\n\\nSo by going solar, you could save around $6,898 over the next decade compared to continuing to pay your $100 monthly electricity bill. The solar panel system would pay for itself in just over 4 years through the electricity savings.\\n\\nInstalling solar helps reduce your carbon footprint and protects you from future utility rate hikes as well. Let me know if you need any other details!' additional_kwargs={'usage': {'prompt_tokens': 609, 'completion_tokens': 148, 'total_tokens': 757}, 'stop_reason': 'end_turn', 'model_id': 'anthropic.claude-3-sonnet-20240229-v1:0'} response_metadata={'usage': {'prompt_tokens': 609, 'completion_tokens': 148, 'total_tokens': 757}, 'stop_reason': 'end_turn', 'model_id': 'anthropic.claude-3-sonnet-20240229-v1:0'} id='run-c43eba1e-f0cb-4c25-adb1-a0648b1d422a-0' usage_metadata={'input_tokens': 609, 'output_tokens': 148, 'total_tokens': 757}\n",
      "==================================\u001b[1m Ai Message \u001b[0m==================================\n",
      "\n",
      "Based on your monthly electricity cost of $100, here are the estimated savings from installing solar panels:\n",
      "\n",
      "- Number of solar panels recommended: 10\n",
      "- Upfront installation cost: $5,102.04\n",
      "- Net savings over 10 years: $6,897.96\n",
      "\n",
      "So by going solar, you could save around $6,898 over the next decade compared to continuing to pay your $100 monthly electricity bill. The solar panel system would pay for itself in just over 4 years through the electricity savings.\n",
      "\n",
      "Installing solar helps reduce your carbon footprint and protects you from future utility rate hikes as well. Let me know if you need any other details!\n"
     ]
    }
   ],
   "source": [
    "# import shutil\n",
    "import uuid\n",
    "\n",
    "# Let's create an example conversation a user might have with the assistant\n",
    "tutorial_questions = [\n",
    "    'hey',\n",
    "    'can you calculate my energy saving',\n",
    "    \"my montly cost is $100, what will i save\"\n",
    "]\n",
    "\n",
    "# Update with the backup file so we can restart from the original place in each section\n",
    "# shutil.copy(backup_file, db)\n",
    "thread_id = str(uuid.uuid4())\n",
    "\n",
    "config = {\n",
    "    \"configurable\": {\n",
    "        # The passenger_id is used in our flight tools to\n",
    "        # fetch the user's flight information\n",
    "        # \"passenger_id\": \"3442 587242\",\n",
    "        # Checkpoints are accessed by thread_id\n",
    "        \"thread_id\": thread_id,\n",
    "    }\n",
    "}\n",
    "\n",
    "\n",
    "_printed = set()\n",
    "for question in tutorial_questions:\n",
    "    events = graph.stream(\n",
    "        {\"messages\": (\"user\", question)}, config, stream_mode=\"values\"\n",
    "    )\n",
    "    for event in events:\n",
    "        _print_event(event, _printed)"
   ]
  },
  {
   "cell_type": "code",
   "execution_count": null,
   "metadata": {},
   "outputs": [],
   "source": []
  }
 ],
 "metadata": {
  "kernelspec": {
   "display_name": "env",
   "language": "python",
   "name": "python3"
  },
  "language_info": {
   "codemirror_mode": {
    "name": "ipython",
    "version": 3
   },
   "file_extension": ".py",
   "mimetype": "text/x-python",
   "name": "python",
   "nbconvert_exporter": "python",
   "pygments_lexer": "ipython3",
   "version": "3.11.6"
  }
 },
 "nbformat": 4,
 "nbformat_minor": 2
}
